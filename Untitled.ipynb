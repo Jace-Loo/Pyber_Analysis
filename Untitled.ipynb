{
 "cells": [
  {
   "cell_type": "markdown",
   "id": "02b4805d-625e-49e9-9ecc-ee7e7f55d802",
   "metadata": {},
   "source": [
    "# Pyber_Analysis\n",
    "\n",
    "## Overview\n",
    "This is an in-depth analysis of data from thepopular ride-sharing app PyBer. In this analysis, we explore relations between data collected from over 2,000 rides in 2019. This data is categorized based on the type of city where the ride took place: Urban cities, Suburban cities, and Rural areas. \n",
    "\n",
    "### Purpose\n",
    "The purpose of analyzing this data is to view the relationship between the type of city and fare prices, number of rides, and number of drivers. The findings will help PyBer determine ways to increase access and affordability for underserved areas. \n",
    "\n",
    "## Results\n",
    "\n",
    "### Comparing Urban cities, Suburban cities, and Rural areas\n",
    "(picture of pyber_summary_df)\n",
    "\n",
    "Comparisons of the data show that Rural areas have the fewest number of rides and drivers, Urban cities have the highest number of rides and drivers, and Suburban areas fall somewhere between. Naturally, due to supply and demand, the cost of a ride in Rural areas is much higher than in Urban cities due to fewer available drivers. The average fare per driver is similarly higher in Rural areas. Despite the higher average fare per ride in Rural areas, Urban cities and Suburban cities more than make up for the lost revenue in volume of rides, with the total fare in Urban cities is almost ten times that of the total fare in Rural areas. This is visualized in the below figure:\n",
    "\n",
    "(picture of total fares by city type line graph)\n",
    "\n",
    "## Summary\n",
    "To help address the disparities between Urban cities, Suburban cities, and Rural areas, we would recommend:\n",
    "- Increasing the number of drivers available in Rural areas, possibly my moving drivers from Urban cities. \n",
    "- Operating at a loss, or with a lower profit margin, in Rural areas in order to increase popularity of the PyBer app amongst residents of Rural areas, and gradually raising prices as popularity increases.\n",
    "- Reducing the number of available drivers in Urban cities in order to justify raising the fare per ride. "
   ]
  },
  {
   "cell_type": "markdown",
   "id": "03d1fbc9-72f1-4d2f-988a-e7a92bbfc83b",
   "metadata": {},
   "source": [
    "![PyBer](Analysis/Fig1.png)"
   ]
  },
  {
   "cell_type": "code",
   "execution_count": null,
   "id": "91bc6b70-c563-4092-8614-e24cc169cbfa",
   "metadata": {},
   "outputs": [],
   "source": []
  }
 ],
 "metadata": {
  "kernelspec": {
   "display_name": "ucsd_class",
   "language": "python",
   "name": "ucsd_class"
  },
  "language_info": {
   "codemirror_mode": {
    "name": "ipython",
    "version": 3
   },
   "file_extension": ".py",
   "mimetype": "text/x-python",
   "name": "python",
   "nbconvert_exporter": "python",
   "pygments_lexer": "ipython3",
   "version": "3.8.8"
  }
 },
 "nbformat": 4,
 "nbformat_minor": 5
}
